{
 "cells": [
  {
   "attachments": {},
   "cell_type": "markdown",
   "metadata": {},
   "source": [
    "# CONTENTS\n",
    "\n",
    "- IMPORTING DATA\n",
    "- EXPLORING DATA\n",
    "- DATA MANIPULATION\n",
    "- DERIVING VARIABLES\n",
    "- EXPORTING DATA"
   ]
  },
  {
   "attachments": {},
   "cell_type": "markdown",
   "metadata": {},
   "source": [
    "# IMPORTING DATA"
   ]
  },
  {
   "cell_type": "code",
   "execution_count": 1,
   "metadata": {},
   "outputs": [],
   "source": [
    "# import libraries\n",
    "import pandas as pd\n",
    "import numpy as np\n",
    "import os"
   ]
  },
  {
   "cell_type": "code",
   "execution_count": 2,
   "metadata": {},
   "outputs": [],
   "source": [
    "# initialize path variable\n",
    "path = r'/Users/smac_/Documents/Courses/CF Data Analytics Program/Data Immersion/Achievement 4/05-2023 Instacart Basket Analysis'"
   ]
  },
  {
   "cell_type": "code",
   "execution_count": 3,
   "metadata": {},
   "outputs": [],
   "source": [
    "# import data\n",
    "ords_prods_merge = pd.read_pickle(os.path.join(path, '02 Data', 'Prepared Data', 'c_orders_products_merged.pkl'))"
   ]
  },
  {
   "cell_type": "code",
   "execution_count": 4,
   "metadata": {},
   "outputs": [],
   "source": [
    "# initialize subset dataframe from 'df_ords_prods_merge'\n",
    "df = ords_prods_merge[:1000000]"
   ]
  },
  {
   "attachments": {},
   "cell_type": "markdown",
   "metadata": {},
   "source": [
    "# EXPLORING DATA"
   ]
  },
  {
   "attachments": {},
   "cell_type": "markdown",
   "metadata": {},
   "source": [
    "## SUBSET DATAFRAME"
   ]
  },
  {
   "cell_type": "code",
   "execution_count": 5,
   "metadata": {},
   "outputs": [
    {
     "data": {
      "text/plain": [
       "order_id                    object\n",
       "user_id                     object\n",
       "order_number                 int64\n",
       "orders_day_of_week           int64\n",
       "order_hour_of_day            int64\n",
       "days_since_prior_order     float64\n",
       "product_id                  object\n",
       "add_to_cart_order            int64\n",
       "reordered                   object\n",
       "_merge_prods_ords         category\n",
       "product_name                object\n",
       "aisle_id                    object\n",
       "department_id               object\n",
       "prices                     float64\n",
       "_merge_prods_info         category\n",
       "dtype: object"
      ]
     },
     "execution_count": 5,
     "metadata": {},
     "output_type": "execute_result"
    }
   ],
   "source": [
    "# column names & data types\n",
    "df.dtypes"
   ]
  },
  {
   "cell_type": "code",
   "execution_count": 6,
   "metadata": {},
   "outputs": [
    {
     "data": {
      "text/html": [
       "<div>\n",
       "<style scoped>\n",
       "    .dataframe tbody tr th:only-of-type {\n",
       "        vertical-align: middle;\n",
       "    }\n",
       "\n",
       "    .dataframe tbody tr th {\n",
       "        vertical-align: top;\n",
       "    }\n",
       "\n",
       "    .dataframe thead th {\n",
       "        text-align: right;\n",
       "    }\n",
       "</style>\n",
       "<table border=\"1\" class=\"dataframe\">\n",
       "  <thead>\n",
       "    <tr style=\"text-align: right;\">\n",
       "      <th></th>\n",
       "      <th>order_id</th>\n",
       "      <th>user_id</th>\n",
       "      <th>order_number</th>\n",
       "      <th>orders_day_of_week</th>\n",
       "      <th>order_hour_of_day</th>\n",
       "      <th>days_since_prior_order</th>\n",
       "      <th>product_id</th>\n",
       "      <th>add_to_cart_order</th>\n",
       "      <th>reordered</th>\n",
       "      <th>_merge_prods_ords</th>\n",
       "      <th>product_name</th>\n",
       "      <th>aisle_id</th>\n",
       "      <th>department_id</th>\n",
       "      <th>prices</th>\n",
       "      <th>_merge_prods_info</th>\n",
       "    </tr>\n",
       "  </thead>\n",
       "  <tbody>\n",
       "    <tr>\n",
       "      <th>0</th>\n",
       "      <td>2539329</td>\n",
       "      <td>1</td>\n",
       "      <td>1</td>\n",
       "      <td>2</td>\n",
       "      <td>8</td>\n",
       "      <td>NaN</td>\n",
       "      <td>196</td>\n",
       "      <td>1</td>\n",
       "      <td>0</td>\n",
       "      <td>both</td>\n",
       "      <td>Soda</td>\n",
       "      <td>77</td>\n",
       "      <td>7</td>\n",
       "      <td>9.0</td>\n",
       "      <td>both</td>\n",
       "    </tr>\n",
       "    <tr>\n",
       "      <th>1</th>\n",
       "      <td>2398795</td>\n",
       "      <td>1</td>\n",
       "      <td>2</td>\n",
       "      <td>3</td>\n",
       "      <td>7</td>\n",
       "      <td>15.0</td>\n",
       "      <td>196</td>\n",
       "      <td>1</td>\n",
       "      <td>1</td>\n",
       "      <td>both</td>\n",
       "      <td>Soda</td>\n",
       "      <td>77</td>\n",
       "      <td>7</td>\n",
       "      <td>9.0</td>\n",
       "      <td>both</td>\n",
       "    </tr>\n",
       "    <tr>\n",
       "      <th>2</th>\n",
       "      <td>473747</td>\n",
       "      <td>1</td>\n",
       "      <td>3</td>\n",
       "      <td>3</td>\n",
       "      <td>12</td>\n",
       "      <td>21.0</td>\n",
       "      <td>196</td>\n",
       "      <td>1</td>\n",
       "      <td>1</td>\n",
       "      <td>both</td>\n",
       "      <td>Soda</td>\n",
       "      <td>77</td>\n",
       "      <td>7</td>\n",
       "      <td>9.0</td>\n",
       "      <td>both</td>\n",
       "    </tr>\n",
       "    <tr>\n",
       "      <th>3</th>\n",
       "      <td>2254736</td>\n",
       "      <td>1</td>\n",
       "      <td>4</td>\n",
       "      <td>4</td>\n",
       "      <td>7</td>\n",
       "      <td>29.0</td>\n",
       "      <td>196</td>\n",
       "      <td>1</td>\n",
       "      <td>1</td>\n",
       "      <td>both</td>\n",
       "      <td>Soda</td>\n",
       "      <td>77</td>\n",
       "      <td>7</td>\n",
       "      <td>9.0</td>\n",
       "      <td>both</td>\n",
       "    </tr>\n",
       "    <tr>\n",
       "      <th>4</th>\n",
       "      <td>431534</td>\n",
       "      <td>1</td>\n",
       "      <td>5</td>\n",
       "      <td>4</td>\n",
       "      <td>15</td>\n",
       "      <td>28.0</td>\n",
       "      <td>196</td>\n",
       "      <td>1</td>\n",
       "      <td>1</td>\n",
       "      <td>both</td>\n",
       "      <td>Soda</td>\n",
       "      <td>77</td>\n",
       "      <td>7</td>\n",
       "      <td>9.0</td>\n",
       "      <td>both</td>\n",
       "    </tr>\n",
       "  </tbody>\n",
       "</table>\n",
       "</div>"
      ],
      "text/plain": [
       "  order_id user_id  order_number  orders_day_of_week  order_hour_of_day  \\\n",
       "0  2539329       1             1                   2                  8   \n",
       "1  2398795       1             2                   3                  7   \n",
       "2   473747       1             3                   3                 12   \n",
       "3  2254736       1             4                   4                  7   \n",
       "4   431534       1             5                   4                 15   \n",
       "\n",
       "   days_since_prior_order product_id  add_to_cart_order reordered  \\\n",
       "0                     NaN        196                  1         0   \n",
       "1                    15.0        196                  1         1   \n",
       "2                    21.0        196                  1         1   \n",
       "3                    29.0        196                  1         1   \n",
       "4                    28.0        196                  1         1   \n",
       "\n",
       "  _merge_prods_ords product_name aisle_id department_id  prices  \\\n",
       "0              both         Soda       77             7     9.0   \n",
       "1              both         Soda       77             7     9.0   \n",
       "2              both         Soda       77             7     9.0   \n",
       "3              both         Soda       77             7     9.0   \n",
       "4              both         Soda       77             7     9.0   \n",
       "\n",
       "  _merge_prods_info  \n",
       "0              both  \n",
       "1              both  \n",
       "2              both  \n",
       "3              both  \n",
       "4              both  "
      ]
     },
     "execution_count": 6,
     "metadata": {},
     "output_type": "execute_result"
    }
   ],
   "source": [
    "# first 5 rows\n",
    "df.head()"
   ]
  },
  {
   "cell_type": "code",
   "execution_count": 7,
   "metadata": {},
   "outputs": [
    {
     "data": {
      "text/html": [
       "<div>\n",
       "<style scoped>\n",
       "    .dataframe tbody tr th:only-of-type {\n",
       "        vertical-align: middle;\n",
       "    }\n",
       "\n",
       "    .dataframe tbody tr th {\n",
       "        vertical-align: top;\n",
       "    }\n",
       "\n",
       "    .dataframe thead th {\n",
       "        text-align: right;\n",
       "    }\n",
       "</style>\n",
       "<table border=\"1\" class=\"dataframe\">\n",
       "  <thead>\n",
       "    <tr style=\"text-align: right;\">\n",
       "      <th></th>\n",
       "      <th>order_id</th>\n",
       "      <th>user_id</th>\n",
       "      <th>order_number</th>\n",
       "      <th>orders_day_of_week</th>\n",
       "      <th>order_hour_of_day</th>\n",
       "      <th>days_since_prior_order</th>\n",
       "      <th>product_id</th>\n",
       "      <th>add_to_cart_order</th>\n",
       "      <th>reordered</th>\n",
       "      <th>_merge_prods_ords</th>\n",
       "      <th>product_name</th>\n",
       "      <th>aisle_id</th>\n",
       "      <th>department_id</th>\n",
       "      <th>prices</th>\n",
       "      <th>_merge_prods_info</th>\n",
       "    </tr>\n",
       "  </thead>\n",
       "  <tbody>\n",
       "    <tr>\n",
       "      <th>999995</th>\n",
       "      <td>2836489</td>\n",
       "      <td>164627</td>\n",
       "      <td>14</td>\n",
       "      <td>0</td>\n",
       "      <td>15</td>\n",
       "      <td>6.0</td>\n",
       "      <td>30489</td>\n",
       "      <td>2</td>\n",
       "      <td>0</td>\n",
       "      <td>both</td>\n",
       "      <td>Original Hummus</td>\n",
       "      <td>67</td>\n",
       "      <td>20</td>\n",
       "      <td>7.5</td>\n",
       "      <td>both</td>\n",
       "    </tr>\n",
       "    <tr>\n",
       "      <th>999996</th>\n",
       "      <td>1843600</td>\n",
       "      <td>164632</td>\n",
       "      <td>5</td>\n",
       "      <td>1</td>\n",
       "      <td>19</td>\n",
       "      <td>9.0</td>\n",
       "      <td>30489</td>\n",
       "      <td>2</td>\n",
       "      <td>0</td>\n",
       "      <td>both</td>\n",
       "      <td>Original Hummus</td>\n",
       "      <td>67</td>\n",
       "      <td>20</td>\n",
       "      <td>7.5</td>\n",
       "      <td>both</td>\n",
       "    </tr>\n",
       "    <tr>\n",
       "      <th>999997</th>\n",
       "      <td>733106</td>\n",
       "      <td>164632</td>\n",
       "      <td>9</td>\n",
       "      <td>2</td>\n",
       "      <td>22</td>\n",
       "      <td>10.0</td>\n",
       "      <td>30489</td>\n",
       "      <td>3</td>\n",
       "      <td>1</td>\n",
       "      <td>both</td>\n",
       "      <td>Original Hummus</td>\n",
       "      <td>67</td>\n",
       "      <td>20</td>\n",
       "      <td>7.5</td>\n",
       "      <td>both</td>\n",
       "    </tr>\n",
       "    <tr>\n",
       "      <th>999998</th>\n",
       "      <td>1650124</td>\n",
       "      <td>164632</td>\n",
       "      <td>17</td>\n",
       "      <td>6</td>\n",
       "      <td>17</td>\n",
       "      <td>13.0</td>\n",
       "      <td>30489</td>\n",
       "      <td>1</td>\n",
       "      <td>1</td>\n",
       "      <td>both</td>\n",
       "      <td>Original Hummus</td>\n",
       "      <td>67</td>\n",
       "      <td>20</td>\n",
       "      <td>7.5</td>\n",
       "      <td>both</td>\n",
       "    </tr>\n",
       "    <tr>\n",
       "      <th>999999</th>\n",
       "      <td>3378258</td>\n",
       "      <td>164632</td>\n",
       "      <td>22</td>\n",
       "      <td>6</td>\n",
       "      <td>10</td>\n",
       "      <td>15.0</td>\n",
       "      <td>30489</td>\n",
       "      <td>3</td>\n",
       "      <td>1</td>\n",
       "      <td>both</td>\n",
       "      <td>Original Hummus</td>\n",
       "      <td>67</td>\n",
       "      <td>20</td>\n",
       "      <td>7.5</td>\n",
       "      <td>both</td>\n",
       "    </tr>\n",
       "  </tbody>\n",
       "</table>\n",
       "</div>"
      ],
      "text/plain": [
       "       order_id user_id  order_number  orders_day_of_week  order_hour_of_day  \\\n",
       "999995  2836489  164627            14                   0                 15   \n",
       "999996  1843600  164632             5                   1                 19   \n",
       "999997   733106  164632             9                   2                 22   \n",
       "999998  1650124  164632            17                   6                 17   \n",
       "999999  3378258  164632            22                   6                 10   \n",
       "\n",
       "        days_since_prior_order product_id  add_to_cart_order reordered  \\\n",
       "999995                     6.0      30489                  2         0   \n",
       "999996                     9.0      30489                  2         0   \n",
       "999997                    10.0      30489                  3         1   \n",
       "999998                    13.0      30489                  1         1   \n",
       "999999                    15.0      30489                  3         1   \n",
       "\n",
       "       _merge_prods_ords     product_name aisle_id department_id  prices  \\\n",
       "999995              both  Original Hummus       67            20     7.5   \n",
       "999996              both  Original Hummus       67            20     7.5   \n",
       "999997              both  Original Hummus       67            20     7.5   \n",
       "999998              both  Original Hummus       67            20     7.5   \n",
       "999999              both  Original Hummus       67            20     7.5   \n",
       "\n",
       "       _merge_prods_info  \n",
       "999995              both  \n",
       "999996              both  \n",
       "999997              both  \n",
       "999998              both  \n",
       "999999              both  "
      ]
     },
     "execution_count": 7,
     "metadata": {},
     "output_type": "execute_result"
    }
   ],
   "source": [
    "# last 5 rows\n",
    "df.tail()"
   ]
  },
  {
   "cell_type": "code",
   "execution_count": 8,
   "metadata": {},
   "outputs": [
    {
     "data": {
      "text/plain": [
       "(1000000, 15)"
      ]
     },
     "execution_count": 8,
     "metadata": {},
     "output_type": "execute_result"
    }
   ],
   "source": [
    "# dataframe size\n",
    "df.shape"
   ]
  },
  {
   "cell_type": "code",
   "execution_count": 9,
   "metadata": {},
   "outputs": [
    {
     "name": "stderr",
     "output_type": "stream",
     "text": [
      "/var/folders/8p/sqjxls112c90qnpl3cdf34x00000gn/T/ipykernel_57907/1147385873.py:2: SettingWithCopyWarning: \n",
      "A value is trying to be set on a copy of a slice from a DataFrame.\n",
      "Try using .loc[row_indexer,col_indexer] = value instead\n",
      "\n",
      "See the caveats in the documentation: https://pandas.pydata.org/pandas-docs/stable/user_guide/indexing.html#returning-a-view-versus-a-copy\n",
      "  df.loc[:,'order_id'] = df['order_id'].astype(str)\n",
      "/var/folders/8p/sqjxls112c90qnpl3cdf34x00000gn/T/ipykernel_57907/1147385873.py:3: SettingWithCopyWarning: \n",
      "A value is trying to be set on a copy of a slice from a DataFrame.\n",
      "Try using .loc[row_indexer,col_indexer] = value instead\n",
      "\n",
      "See the caveats in the documentation: https://pandas.pydata.org/pandas-docs/stable/user_guide/indexing.html#returning-a-view-versus-a-copy\n",
      "  df.loc[:,'user_id'] = df['user_id'].astype(str)\n",
      "/var/folders/8p/sqjxls112c90qnpl3cdf34x00000gn/T/ipykernel_57907/1147385873.py:4: SettingWithCopyWarning: \n",
      "A value is trying to be set on a copy of a slice from a DataFrame.\n",
      "Try using .loc[row_indexer,col_indexer] = value instead\n",
      "\n",
      "See the caveats in the documentation: https://pandas.pydata.org/pandas-docs/stable/user_guide/indexing.html#returning-a-view-versus-a-copy\n",
      "  df.loc[:,'product_id'] = df['product_id'].astype(str)\n",
      "/var/folders/8p/sqjxls112c90qnpl3cdf34x00000gn/T/ipykernel_57907/1147385873.py:5: SettingWithCopyWarning: \n",
      "A value is trying to be set on a copy of a slice from a DataFrame.\n",
      "Try using .loc[row_indexer,col_indexer] = value instead\n",
      "\n",
      "See the caveats in the documentation: https://pandas.pydata.org/pandas-docs/stable/user_guide/indexing.html#returning-a-view-versus-a-copy\n",
      "  df.loc[:,'aisle_id'] = df['aisle_id'].astype(str)\n",
      "/var/folders/8p/sqjxls112c90qnpl3cdf34x00000gn/T/ipykernel_57907/1147385873.py:6: SettingWithCopyWarning: \n",
      "A value is trying to be set on a copy of a slice from a DataFrame.\n",
      "Try using .loc[row_indexer,col_indexer] = value instead\n",
      "\n",
      "See the caveats in the documentation: https://pandas.pydata.org/pandas-docs/stable/user_guide/indexing.html#returning-a-view-versus-a-copy\n",
      "  df.loc[:,'department_id'] = df['department_id'].astype(str)\n"
     ]
    }
   ],
   "source": [
    "# cast nominal columns as string\n",
    "df.loc[:,'order_id'] = df['order_id'].astype(str)\n",
    "df.loc[:,'user_id'] = df['user_id'].astype(str)\n",
    "df.loc[:,'product_id'] = df['product_id'].astype(str)\n",
    "df.loc[:,'aisle_id'] = df['aisle_id'].astype(str)\n",
    "df.loc[:,'department_id'] = df['department_id'].astype(str)"
   ]
  },
  {
   "attachments": {},
   "cell_type": "markdown",
   "metadata": {},
   "source": [
    "I could not find a way to avoid this warning when casting the data types of nominal variables as string so they are not displayed in the summary statistics. Perhaps it is caused due to using the subset dataframe instead of the original?"
   ]
  },
  {
   "cell_type": "code",
   "execution_count": 10,
   "metadata": {},
   "outputs": [
    {
     "data": {
      "text/html": [
       "<div>\n",
       "<style scoped>\n",
       "    .dataframe tbody tr th:only-of-type {\n",
       "        vertical-align: middle;\n",
       "    }\n",
       "\n",
       "    .dataframe tbody tr th {\n",
       "        vertical-align: top;\n",
       "    }\n",
       "\n",
       "    .dataframe thead th {\n",
       "        text-align: right;\n",
       "    }\n",
       "</style>\n",
       "<table border=\"1\" class=\"dataframe\">\n",
       "  <thead>\n",
       "    <tr style=\"text-align: right;\">\n",
       "      <th></th>\n",
       "      <th>order_number</th>\n",
       "      <th>orders_day_of_week</th>\n",
       "      <th>order_hour_of_day</th>\n",
       "      <th>days_since_prior_order</th>\n",
       "      <th>add_to_cart_order</th>\n",
       "      <th>prices</th>\n",
       "    </tr>\n",
       "  </thead>\n",
       "  <tbody>\n",
       "    <tr>\n",
       "      <th>count</th>\n",
       "      <td>1000000.000000</td>\n",
       "      <td>1000000.000000</td>\n",
       "      <td>1000000.000000</td>\n",
       "      <td>939915.000000</td>\n",
       "      <td>1000000.000000</td>\n",
       "      <td>1000000.000000</td>\n",
       "    </tr>\n",
       "    <tr>\n",
       "      <th>mean</th>\n",
       "      <td>18.731714</td>\n",
       "      <td>2.686741</td>\n",
       "      <td>13.272235</td>\n",
       "      <td>10.646367</td>\n",
       "      <td>6.078493</td>\n",
       "      <td>7.819497</td>\n",
       "    </tr>\n",
       "    <tr>\n",
       "      <th>std</th>\n",
       "      <td>18.563841</td>\n",
       "      <td>2.053382</td>\n",
       "      <td>4.218017</td>\n",
       "      <td>8.467237</td>\n",
       "      <td>5.695749</td>\n",
       "      <td>3.641458</td>\n",
       "    </tr>\n",
       "    <tr>\n",
       "      <th>min</th>\n",
       "      <td>1.000000</td>\n",
       "      <td>0.000000</td>\n",
       "      <td>0.000000</td>\n",
       "      <td>0.000000</td>\n",
       "      <td>1.000000</td>\n",
       "      <td>1.000000</td>\n",
       "    </tr>\n",
       "    <tr>\n",
       "      <th>25%</th>\n",
       "      <td>5.000000</td>\n",
       "      <td>1.000000</td>\n",
       "      <td>10.000000</td>\n",
       "      <td>5.000000</td>\n",
       "      <td>2.000000</td>\n",
       "      <td>6.300000</td>\n",
       "    </tr>\n",
       "    <tr>\n",
       "      <th>50%</th>\n",
       "      <td>12.000000</td>\n",
       "      <td>2.000000</td>\n",
       "      <td>13.000000</td>\n",
       "      <td>7.000000</td>\n",
       "      <td>4.000000</td>\n",
       "      <td>9.000000</td>\n",
       "    </tr>\n",
       "    <tr>\n",
       "      <th>75%</th>\n",
       "      <td>27.000000</td>\n",
       "      <td>5.000000</td>\n",
       "      <td>16.000000</td>\n",
       "      <td>14.000000</td>\n",
       "      <td>8.000000</td>\n",
       "      <td>10.300000</td>\n",
       "    </tr>\n",
       "    <tr>\n",
       "      <th>max</th>\n",
       "      <td>99.000000</td>\n",
       "      <td>6.000000</td>\n",
       "      <td>23.000000</td>\n",
       "      <td>30.000000</td>\n",
       "      <td>99.000000</td>\n",
       "      <td>14.800000</td>\n",
       "    </tr>\n",
       "  </tbody>\n",
       "</table>\n",
       "</div>"
      ],
      "text/plain": [
       "         order_number  orders_day_of_week  order_hour_of_day  \\\n",
       "count  1000000.000000      1000000.000000     1000000.000000   \n",
       "mean        18.731714            2.686741          13.272235   \n",
       "std         18.563841            2.053382           4.218017   \n",
       "min          1.000000            0.000000           0.000000   \n",
       "25%          5.000000            1.000000          10.000000   \n",
       "50%         12.000000            2.000000          13.000000   \n",
       "75%         27.000000            5.000000          16.000000   \n",
       "max         99.000000            6.000000          23.000000   \n",
       "\n",
       "       days_since_prior_order  add_to_cart_order          prices  \n",
       "count           939915.000000     1000000.000000  1000000.000000  \n",
       "mean                10.646367           6.078493        7.819497  \n",
       "std                  8.467237           5.695749        3.641458  \n",
       "min                  0.000000           1.000000        1.000000  \n",
       "25%                  5.000000           2.000000        6.300000  \n",
       "50%                  7.000000           4.000000        9.000000  \n",
       "75%                 14.000000           8.000000       10.300000  \n",
       "max                 30.000000          99.000000       14.800000  "
      ]
     },
     "execution_count": 10,
     "metadata": {},
     "output_type": "execute_result"
    }
   ],
   "source": [
    "# summary stats\n",
    "df.describe()"
   ]
  },
  {
   "attachments": {},
   "cell_type": "markdown",
   "metadata": {},
   "source": [
    "# DATA MANIPULATION"
   ]
  },
  {
   "attachments": {},
   "cell_type": "markdown",
   "metadata": {},
   "source": [
    "The data manipulation performed serves two main objectives: addressing inconsistencies discovered during variable exploration and eliminating irrelevant variables for the analysis. "
   ]
  },
  {
   "attachments": {},
   "cell_type": "markdown",
   "metadata": {},
   "source": [
    "## WRANGLING"
   ]
  },
  {
   "cell_type": "code",
   "execution_count": 11,
   "metadata": {},
   "outputs": [],
   "source": [
    "# drop merge flag columns\n",
    "drop_merge = ['_merge_prods_ords', '_merge_prods_info']\n",
    "ords_prods_merge_updated = ords_prods_merge.drop(columns = drop_merge)"
   ]
  },
  {
   "attachments": {},
   "cell_type": "markdown",
   "metadata": {},
   "source": [
    "## CONSISTENCY"
   ]
  },
  {
   "cell_type": "code",
   "execution_count": 12,
   "metadata": {},
   "outputs": [],
   "source": [
    "# set the maximum number of displayed rows and columns to unlimited\n",
    "pd.set_option('display.max_rows', None)\n",
    "pd.set_option('display.max_columns', None)"
   ]
  },
  {
   "cell_type": "code",
   "execution_count": 13,
   "metadata": {},
   "outputs": [
    {
     "data": {
      "text/plain": [
       "99999.0       698\n",
       "14900.0      4429\n",
       "25.0        13772\n",
       "24.9         5781\n",
       "24.8          410\n",
       "24.7         7283\n",
       "24.6         1962\n",
       "24.5         2148\n",
       "24.4          499\n",
       "24.3         2889\n",
       "24.2        15891\n",
       "24.1          978\n",
       "24.0         4327\n",
       "23.9         2074\n",
       "23.8        12585\n",
       "23.7         1346\n",
       "23.6         8458\n",
       "23.5         1924\n",
       "23.4          368\n",
       "23.3         4803\n",
       "23.2        14866\n",
       "23.1         9135\n",
       "23.0         3265\n",
       "22.9         3884\n",
       "22.8         1089\n",
       "22.7           99\n",
       "22.6         2275\n",
       "22.5          706\n",
       "22.4         1280\n",
       "22.3        19430\n",
       "22.2         1178\n",
       "22.1         5204\n",
       "22.0         1182\n",
       "21.9          689\n",
       "21.8          546\n",
       "21.7         2553\n",
       "21.6        10598\n",
       "21.5           85\n",
       "21.4          137\n",
       "21.3         7647\n",
       "21.1        33805\n",
       "21.0            8\n",
       "20.9         1075\n",
       "20.8          852\n",
       "20.7         6568\n",
       "20.6         1167\n",
       "20.5          945\n",
       "20.4         5351\n",
       "20.3          236\n",
       "20.2          123\n",
       "20.1         3745\n",
       "20.0         5775\n",
       "19.9          887\n",
       "19.8          344\n",
       "19.7         5538\n",
       "19.6        28383\n",
       "19.5          453\n",
       "19.4         5457\n",
       "19.3         6537\n",
       "19.2          981\n",
       "19.1         2926\n",
       "19.0         2823\n",
       "18.9          483\n",
       "18.8         4363\n",
       "18.7        10503\n",
       "18.6         8451\n",
       "18.5         3105\n",
       "18.4         1762\n",
       "18.3           11\n",
       "18.2        14923\n",
       "18.1         8027\n",
       "18.0         1135\n",
       "17.9          137\n",
       "17.8          981\n",
       "17.7         2073\n",
       "17.6          640\n",
       "17.5          369\n",
       "17.4         1721\n",
       "17.3         4309\n",
       "17.2         1001\n",
       "17.1         4231\n",
       "17.0         3836\n",
       "16.9         4971\n",
       "16.8         4795\n",
       "16.7         3105\n",
       "16.6         4212\n",
       "16.5         2541\n",
       "16.4         3892\n",
       "16.3          287\n",
       "16.2         1823\n",
       "16.1         1622\n",
       "16.0         1272\n",
       "15.9         5078\n",
       "15.8          772\n",
       "15.7         4551\n",
       "15.6          333\n",
       "15.5         2325\n",
       "15.4         1175\n",
       "15.3         7495\n",
       "15.2          494\n",
       "15.1         2422\n",
       "15.0        97261\n",
       "14.9       156433\n",
       "14.8       188844\n",
       "14.7       279291\n",
       "14.6       139880\n",
       "14.5       129540\n",
       "14.4       168272\n",
       "14.3       334811\n",
       "14.2       119314\n",
       "14.1       238211\n",
       "14.0       311640\n",
       "13.9       145234\n",
       "13.8       162616\n",
       "13.7       181882\n",
       "13.6       172962\n",
       "13.5       216276\n",
       "13.4       225843\n",
       "13.3       173797\n",
       "13.2       333183\n",
       "13.1       117047\n",
       "13.0       114503\n",
       "12.9       160860\n",
       "12.8       309727\n",
       "12.7       124544\n",
       "12.6       174427\n",
       "12.5       152781\n",
       "12.4        97866\n",
       "12.3       624261\n",
       "12.2       188444\n",
       "12.1       181986\n",
       "12.0       164717\n",
       "11.9       127349\n",
       "11.8       284476\n",
       "11.7       206199\n",
       "11.6       148742\n",
       "11.5       225399\n",
       "11.4       303015\n",
       "11.3       212926\n",
       "11.2       212323\n",
       "11.1       169709\n",
       "11.0       183505\n",
       "10.9       165607\n",
       "10.8        89927\n",
       "10.7       191705\n",
       "10.6       204804\n",
       "10.5       237657\n",
       "10.4       133058\n",
       "10.3       510496\n",
       "10.2       165789\n",
       "10.1       139263\n",
       "10.0       127842\n",
       "9.9        169251\n",
       "9.8        194754\n",
       "9.7        120777\n",
       "9.6        216626\n",
       "9.5        165789\n",
       "9.4        197179\n",
       "9.3        168917\n",
       "9.2        182411\n",
       "9.1        320782\n",
       "9.0        228576\n",
       "8.9        219412\n",
       "8.8        318091\n",
       "8.7        166742\n",
       "8.6        254009\n",
       "8.5        139244\n",
       "8.4        227493\n",
       "8.3        276230\n",
       "8.2        404015\n",
       "8.1        176805\n",
       "8.0        151542\n",
       "7.9        342988\n",
       "7.8        186923\n",
       "7.7        190070\n",
       "7.6        113878\n",
       "7.5        239261\n",
       "7.4        233506\n",
       "7.3        411924\n",
       "7.2        223120\n",
       "7.1        140813\n",
       "7.0        282884\n",
       "6.9        314196\n",
       "6.8        354168\n",
       "6.7        379126\n",
       "6.6        204936\n",
       "6.5        278357\n",
       "6.4        206468\n",
       "6.3        438467\n",
       "6.2        178656\n",
       "6.1        244209\n",
       "6.0        196985\n",
       "5.9        208900\n",
       "5.8        241047\n",
       "5.7        323997\n",
       "5.6        183638\n",
       "5.5        250136\n",
       "5.4        206769\n",
       "5.3        284243\n",
       "5.2        251509\n",
       "5.1        224797\n",
       "5.0        225904\n",
       "4.9        318220\n",
       "4.8        193853\n",
       "4.7        221048\n",
       "4.6        144069\n",
       "4.5        367223\n",
       "4.4        357026\n",
       "4.3        162367\n",
       "4.2        245755\n",
       "4.1        268269\n",
       "4.0        447272\n",
       "3.9        212805\n",
       "3.8        315426\n",
       "3.7        222159\n",
       "3.6        300127\n",
       "3.5        222786\n",
       "3.4        223571\n",
       "3.3        238041\n",
       "3.2        253782\n",
       "3.1        249256\n",
       "3.0        192650\n",
       "2.9        264700\n",
       "2.8        153979\n",
       "2.7        199785\n",
       "2.6        211936\n",
       "2.5        246421\n",
       "2.4        196042\n",
       "2.3        242051\n",
       "2.2        160243\n",
       "2.1        206004\n",
       "2.0        286259\n",
       "1.9        156179\n",
       "1.8        321184\n",
       "1.7        213967\n",
       "1.6        299352\n",
       "1.5        154527\n",
       "1.4        392209\n",
       "1.3        425691\n",
       "1.2        256258\n",
       "1.1        242782\n",
       "1.0        115143\n",
       "Name: prices, dtype: int64"
      ]
     },
     "execution_count": 13,
     "metadata": {},
     "output_type": "execute_result"
    }
   ],
   "source": [
    "# 'prices' column frequency counts sorted by value in descending order\n",
    "ords_prods_merge_updated['prices'].value_counts().sort_index(ascending = False)"
   ]
  },
  {
   "cell_type": "code",
   "execution_count": 14,
   "metadata": {},
   "outputs": [],
   "source": [
    "# create a copy of the original dataframe\n",
    "ords_prods_merge_updated_v2 = ords_prods_merge_updated.copy()"
   ]
  },
  {
   "cell_type": "code",
   "execution_count": 15,
   "metadata": {},
   "outputs": [],
   "source": [
    "# impute extreme values with median\n",
    "median_value = ords_prods_merge_updated_v2['prices'].median()\n",
    "values_to_replace = [99999.0, 14900.0]\n",
    "ords_prods_merge_updated_v2['prices'] = ords_prods_merge_updated_v2['prices'].replace(values_to_replace, median_value)"
   ]
  },
  {
   "cell_type": "code",
   "execution_count": 16,
   "metadata": {},
   "outputs": [
    {
     "data": {
      "text/plain": [
       "25.0     13772\n",
       "24.9      5781\n",
       "24.8       410\n",
       "24.7      7283\n",
       "24.6      1962\n",
       "24.5      2148\n",
       "24.4       499\n",
       "24.3      2889\n",
       "24.2     15891\n",
       "24.1       978\n",
       "24.0      4327\n",
       "23.9      2074\n",
       "23.8     12585\n",
       "23.7      1346\n",
       "23.6      8458\n",
       "23.5      1924\n",
       "23.4       368\n",
       "23.3      4803\n",
       "23.2     14866\n",
       "23.1      9135\n",
       "23.0      3265\n",
       "22.9      3884\n",
       "22.8      1089\n",
       "22.7        99\n",
       "22.6      2275\n",
       "22.5       706\n",
       "22.4      1280\n",
       "22.3     19430\n",
       "22.2      1178\n",
       "22.1      5204\n",
       "22.0      1182\n",
       "21.9       689\n",
       "21.8       546\n",
       "21.7      2553\n",
       "21.6     10598\n",
       "21.5        85\n",
       "21.4       137\n",
       "21.3      7647\n",
       "21.1     33805\n",
       "21.0         8\n",
       "20.9      1075\n",
       "20.8       852\n",
       "20.7      6568\n",
       "20.6      1167\n",
       "20.5       945\n",
       "20.4      5351\n",
       "20.3       236\n",
       "20.2       123\n",
       "20.1      3745\n",
       "20.0      5775\n",
       "19.9       887\n",
       "19.8       344\n",
       "19.7      5538\n",
       "19.6     28383\n",
       "19.5       453\n",
       "19.4      5457\n",
       "19.3      6537\n",
       "19.2       981\n",
       "19.1      2926\n",
       "19.0      2823\n",
       "18.9       483\n",
       "18.8      4363\n",
       "18.7     10503\n",
       "18.6      8451\n",
       "18.5      3105\n",
       "18.4      1762\n",
       "18.3        11\n",
       "18.2     14923\n",
       "18.1      8027\n",
       "18.0      1135\n",
       "17.9       137\n",
       "17.8       981\n",
       "17.7      2073\n",
       "17.6       640\n",
       "17.5       369\n",
       "17.4      1721\n",
       "17.3      4309\n",
       "17.2      1001\n",
       "17.1      4231\n",
       "17.0      3836\n",
       "16.9      4971\n",
       "16.8      4795\n",
       "16.7      3105\n",
       "16.6      4212\n",
       "16.5      2541\n",
       "16.4      3892\n",
       "16.3       287\n",
       "16.2      1823\n",
       "16.1      1622\n",
       "16.0      1272\n",
       "15.9      5078\n",
       "15.8       772\n",
       "15.7      4551\n",
       "15.6       333\n",
       "15.5      2325\n",
       "15.4      1175\n",
       "15.3      7495\n",
       "15.2       494\n",
       "15.1      2422\n",
       "15.0     97261\n",
       "14.9    156433\n",
       "14.8    188844\n",
       "14.7    279291\n",
       "14.6    139880\n",
       "14.5    129540\n",
       "14.4    168272\n",
       "14.3    334811\n",
       "14.2    119314\n",
       "14.1    238211\n",
       "14.0    311640\n",
       "13.9    145234\n",
       "13.8    162616\n",
       "13.7    181882\n",
       "13.6    172962\n",
       "13.5    216276\n",
       "13.4    225843\n",
       "13.3    173797\n",
       "13.2    333183\n",
       "13.1    117047\n",
       "13.0    114503\n",
       "12.9    160860\n",
       "12.8    309727\n",
       "12.7    124544\n",
       "12.6    174427\n",
       "12.5    152781\n",
       "12.4     97866\n",
       "12.3    624261\n",
       "12.2    188444\n",
       "12.1    181986\n",
       "12.0    164717\n",
       "11.9    127349\n",
       "11.8    284476\n",
       "11.7    206199\n",
       "11.6    148742\n",
       "11.5    225399\n",
       "11.4    303015\n",
       "11.3    212926\n",
       "11.2    212323\n",
       "11.1    169709\n",
       "11.0    183505\n",
       "10.9    165607\n",
       "10.8     89927\n",
       "10.7    191705\n",
       "10.6    204804\n",
       "10.5    237657\n",
       "10.4    133058\n",
       "10.3    510496\n",
       "10.2    165789\n",
       "10.1    139263\n",
       "10.0    127842\n",
       "9.9     169251\n",
       "9.8     194754\n",
       "9.7     120777\n",
       "9.6     216626\n",
       "9.5     165789\n",
       "9.4     197179\n",
       "9.3     168917\n",
       "9.2     182411\n",
       "9.1     320782\n",
       "9.0     228576\n",
       "8.9     219412\n",
       "8.8     318091\n",
       "8.7     166742\n",
       "8.6     254009\n",
       "8.5     139244\n",
       "8.4     227493\n",
       "8.3     276230\n",
       "8.2     404015\n",
       "8.1     176805\n",
       "8.0     151542\n",
       "7.9     342988\n",
       "7.8     186923\n",
       "7.7     190070\n",
       "7.6     113878\n",
       "7.5     239261\n",
       "7.4     238633\n",
       "7.3     411924\n",
       "7.2     223120\n",
       "7.1     140813\n",
       "7.0     282884\n",
       "6.9     314196\n",
       "6.8     354168\n",
       "6.7     379126\n",
       "6.6     204936\n",
       "6.5     278357\n",
       "6.4     206468\n",
       "6.3     438467\n",
       "6.2     178656\n",
       "6.1     244209\n",
       "6.0     196985\n",
       "5.9     208900\n",
       "5.8     241047\n",
       "5.7     323997\n",
       "5.6     183638\n",
       "5.5     250136\n",
       "5.4     206769\n",
       "5.3     284243\n",
       "5.2     251509\n",
       "5.1     224797\n",
       "5.0     225904\n",
       "4.9     318220\n",
       "4.8     193853\n",
       "4.7     221048\n",
       "4.6     144069\n",
       "4.5     367223\n",
       "4.4     357026\n",
       "4.3     162367\n",
       "4.2     245755\n",
       "4.1     268269\n",
       "4.0     447272\n",
       "3.9     212805\n",
       "3.8     315426\n",
       "3.7     222159\n",
       "3.6     300127\n",
       "3.5     222786\n",
       "3.4     223571\n",
       "3.3     238041\n",
       "3.2     253782\n",
       "3.1     249256\n",
       "3.0     192650\n",
       "2.9     264700\n",
       "2.8     153979\n",
       "2.7     199785\n",
       "2.6     211936\n",
       "2.5     246421\n",
       "2.4     196042\n",
       "2.3     242051\n",
       "2.2     160243\n",
       "2.1     206004\n",
       "2.0     286259\n",
       "1.9     156179\n",
       "1.8     321184\n",
       "1.7     213967\n",
       "1.6     299352\n",
       "1.5     154527\n",
       "1.4     392209\n",
       "1.3     425691\n",
       "1.2     256258\n",
       "1.1     242782\n",
       "1.0     115143\n",
       "Name: prices, dtype: int64"
      ]
     },
     "execution_count": 16,
     "metadata": {},
     "output_type": "execute_result"
    }
   ],
   "source": [
    "# 'prices' column frequency counts in 'ords_prods_merge_updated_v2' dataframe \n",
    "ords_prods_merge_updated_v2['prices'].value_counts().sort_index(ascending = False)"
   ]
  },
  {
   "cell_type": "code",
   "execution_count": 17,
   "metadata": {},
   "outputs": [
    {
     "data": {
      "text/html": [
       "<div>\n",
       "<style scoped>\n",
       "    .dataframe tbody tr th:only-of-type {\n",
       "        vertical-align: middle;\n",
       "    }\n",
       "\n",
       "    .dataframe tbody tr th {\n",
       "        vertical-align: top;\n",
       "    }\n",
       "\n",
       "    .dataframe thead th {\n",
       "        text-align: right;\n",
       "    }\n",
       "</style>\n",
       "<table border=\"1\" class=\"dataframe\">\n",
       "  <thead>\n",
       "    <tr style=\"text-align: right;\">\n",
       "      <th></th>\n",
       "      <th>order_id</th>\n",
       "      <th>user_id</th>\n",
       "      <th>order_number</th>\n",
       "      <th>orders_day_of_week</th>\n",
       "      <th>order_hour_of_day</th>\n",
       "      <th>days_since_prior_order</th>\n",
       "      <th>product_id</th>\n",
       "      <th>add_to_cart_order</th>\n",
       "      <th>reordered</th>\n",
       "      <th>product_name</th>\n",
       "      <th>aisle_id</th>\n",
       "      <th>department_id</th>\n",
       "      <th>prices</th>\n",
       "    </tr>\n",
       "  </thead>\n",
       "  <tbody>\n",
       "    <tr>\n",
       "      <th>0</th>\n",
       "      <td>2539329</td>\n",
       "      <td>1</td>\n",
       "      <td>1</td>\n",
       "      <td>2</td>\n",
       "      <td>8</td>\n",
       "      <td>NaN</td>\n",
       "      <td>196</td>\n",
       "      <td>1</td>\n",
       "      <td>0</td>\n",
       "      <td>Soda</td>\n",
       "      <td>77</td>\n",
       "      <td>7</td>\n",
       "      <td>9.0</td>\n",
       "    </tr>\n",
       "    <tr>\n",
       "      <th>1</th>\n",
       "      <td>2398795</td>\n",
       "      <td>1</td>\n",
       "      <td>2</td>\n",
       "      <td>3</td>\n",
       "      <td>7</td>\n",
       "      <td>15.0</td>\n",
       "      <td>196</td>\n",
       "      <td>1</td>\n",
       "      <td>1</td>\n",
       "      <td>Soda</td>\n",
       "      <td>77</td>\n",
       "      <td>7</td>\n",
       "      <td>9.0</td>\n",
       "    </tr>\n",
       "    <tr>\n",
       "      <th>2</th>\n",
       "      <td>473747</td>\n",
       "      <td>1</td>\n",
       "      <td>3</td>\n",
       "      <td>3</td>\n",
       "      <td>12</td>\n",
       "      <td>21.0</td>\n",
       "      <td>196</td>\n",
       "      <td>1</td>\n",
       "      <td>1</td>\n",
       "      <td>Soda</td>\n",
       "      <td>77</td>\n",
       "      <td>7</td>\n",
       "      <td>9.0</td>\n",
       "    </tr>\n",
       "    <tr>\n",
       "      <th>3</th>\n",
       "      <td>2254736</td>\n",
       "      <td>1</td>\n",
       "      <td>4</td>\n",
       "      <td>4</td>\n",
       "      <td>7</td>\n",
       "      <td>29.0</td>\n",
       "      <td>196</td>\n",
       "      <td>1</td>\n",
       "      <td>1</td>\n",
       "      <td>Soda</td>\n",
       "      <td>77</td>\n",
       "      <td>7</td>\n",
       "      <td>9.0</td>\n",
       "    </tr>\n",
       "    <tr>\n",
       "      <th>4</th>\n",
       "      <td>431534</td>\n",
       "      <td>1</td>\n",
       "      <td>5</td>\n",
       "      <td>4</td>\n",
       "      <td>15</td>\n",
       "      <td>28.0</td>\n",
       "      <td>196</td>\n",
       "      <td>1</td>\n",
       "      <td>1</td>\n",
       "      <td>Soda</td>\n",
       "      <td>77</td>\n",
       "      <td>7</td>\n",
       "      <td>9.0</td>\n",
       "    </tr>\n",
       "  </tbody>\n",
       "</table>\n",
       "</div>"
      ],
      "text/plain": [
       "  order_id user_id  order_number  orders_day_of_week  order_hour_of_day  \\\n",
       "0  2539329       1             1                   2                  8   \n",
       "1  2398795       1             2                   3                  7   \n",
       "2   473747       1             3                   3                 12   \n",
       "3  2254736       1             4                   4                  7   \n",
       "4   431534       1             5                   4                 15   \n",
       "\n",
       "   days_since_prior_order product_id  add_to_cart_order reordered  \\\n",
       "0                     NaN        196                  1         0   \n",
       "1                    15.0        196                  1         1   \n",
       "2                    21.0        196                  1         1   \n",
       "3                    29.0        196                  1         1   \n",
       "4                    28.0        196                  1         1   \n",
       "\n",
       "  product_name aisle_id department_id  prices  \n",
       "0         Soda       77             7     9.0  \n",
       "1         Soda       77             7     9.0  \n",
       "2         Soda       77             7     9.0  \n",
       "3         Soda       77             7     9.0  \n",
       "4         Soda       77             7     9.0  "
      ]
     },
     "execution_count": 17,
     "metadata": {},
     "output_type": "execute_result"
    }
   ],
   "source": [
    "# first 5 rows in 'ords_prods_merge_updated_v2' dataframe\n",
    "ords_prods_merge_updated_v2.head()"
   ]
  },
  {
   "attachments": {},
   "cell_type": "markdown",
   "metadata": {},
   "source": [
    "# DERIVING VARIABLES"
   ]
  },
  {
   "attachments": {},
   "cell_type": "markdown",
   "metadata": {},
   "source": [
    "## SUBSET DATAFRAME"
   ]
  },
  {
   "attachments": {},
   "cell_type": "markdown",
   "metadata": {},
   "source": [
    "### DERIVE VARIABLE `'price_range'` FROM `'prices'` APPLYING A USER-DEFINED FUNCTION"
   ]
  },
  {
   "cell_type": "code",
   "execution_count": 18,
   "metadata": {},
   "outputs": [],
   "source": [
    "# define a function to create a flag that groups products according to price\n",
    "def price_label(row):\n",
    "\n",
    "  if row['prices'] <= 5:\n",
    "    return 'Low-range product'\n",
    "  elif (row['prices'] > 5) and (row['prices'] <= 15):\n",
    "    return 'Mid-range product'\n",
    "  elif row['prices'] > 15:\n",
    "    return 'High range product'\n",
    "  else: return 'Not enough data'"
   ]
  },
  {
   "cell_type": "code",
   "execution_count": 19,
   "metadata": {},
   "outputs": [
    {
     "name": "stderr",
     "output_type": "stream",
     "text": [
      "/var/folders/8p/sqjxls112c90qnpl3cdf34x00000gn/T/ipykernel_57907/1484875734.py:2: SettingWithCopyWarning: \n",
      "A value is trying to be set on a copy of a slice from a DataFrame.\n",
      "Try using .loc[row_indexer,col_indexer] = value instead\n",
      "\n",
      "See the caveats in the documentation: https://pandas.pydata.org/pandas-docs/stable/user_guide/indexing.html#returning-a-view-versus-a-copy\n",
      "  df['price_range'] = df.apply(price_label, axis = 1)\n"
     ]
    }
   ],
   "source": [
    "# apply the created function\n",
    "df['price_range'] = df.apply(price_label, axis = 1)"
   ]
  },
  {
   "cell_type": "code",
   "execution_count": 20,
   "metadata": {},
   "outputs": [
    {
     "data": {
      "text/plain": [
       "Mid-range product    756450\n",
       "Low-range product    243550\n",
       "Name: price_range, dtype: int64"
      ]
     },
     "execution_count": 20,
     "metadata": {},
     "output_type": "execute_result"
    }
   ],
   "source": [
    "# 'price_range' column frequency counts\n",
    "df['price_range'].value_counts()"
   ]
  },
  {
   "cell_type": "code",
   "execution_count": 21,
   "metadata": {},
   "outputs": [
    {
     "data": {
      "text/plain": [
       "14.8"
      ]
     },
     "execution_count": 21,
     "metadata": {},
     "output_type": "execute_result"
    }
   ],
   "source": [
    "# maximum value in 'price' column\n",
    "df['prices'].max()"
   ]
  },
  {
   "attachments": {},
   "cell_type": "markdown",
   "metadata": {},
   "source": [
    "### DERIVE VARIABLE `'price_range_loc'` FROM `'prices'` APPLYING CONDITIONAL FILTERS USING `loc()`"
   ]
  },
  {
   "cell_type": "code",
   "execution_count": 22,
   "metadata": {},
   "outputs": [
    {
     "name": "stderr",
     "output_type": "stream",
     "text": [
      "/var/folders/8p/sqjxls112c90qnpl3cdf34x00000gn/T/ipykernel_57907/2592088167.py:2: SettingWithCopyWarning: \n",
      "A value is trying to be set on a copy of a slice from a DataFrame.\n",
      "Try using .loc[row_indexer,col_indexer] = value instead\n",
      "\n",
      "See the caveats in the documentation: https://pandas.pydata.org/pandas-docs/stable/user_guide/indexing.html#returning-a-view-versus-a-copy\n",
      "  df.loc[(df['prices'] > 15), 'price_range_loc'] = 'High-range product'\n"
     ]
    }
   ],
   "source": [
    "# 1st conditional filter\n",
    "df.loc[(df['prices'] > 15), 'price_range_loc'] = 'High-range product'"
   ]
  },
  {
   "cell_type": "code",
   "execution_count": 23,
   "metadata": {},
   "outputs": [],
   "source": [
    "# 2nd conditional filter\n",
    "df.loc[(df['prices'] <= 15) & (df['prices'] > 5), 'price_range_loc'] = 'Mid-range product' "
   ]
  },
  {
   "cell_type": "code",
   "execution_count": 24,
   "metadata": {},
   "outputs": [],
   "source": [
    "# 3rd conditional filter\n",
    "df.loc[(df['prices'] <= 5), 'price_range_loc'] = 'Low-range product'"
   ]
  },
  {
   "cell_type": "code",
   "execution_count": 25,
   "metadata": {},
   "outputs": [
    {
     "data": {
      "text/plain": [
       "Mid-range product    756450\n",
       "Low-range product    243550\n",
       "Name: price_range_loc, dtype: int64"
      ]
     },
     "execution_count": 25,
     "metadata": {},
     "output_type": "execute_result"
    }
   ],
   "source": [
    "# 'price_range_loc' column frequency counts\n",
    "df['price_range_loc'].value_counts()"
   ]
  },
  {
   "attachments": {},
   "cell_type": "markdown",
   "metadata": {},
   "source": [
    "## ORIGINAL DATAFRAME"
   ]
  },
  {
   "attachments": {},
   "cell_type": "markdown",
   "metadata": {},
   "source": [
    "### DERIVE VARIABLE `'price_range'` FROM `'price'` APPLYING CONDITIONAL FILTERS USING `loc()`"
   ]
  },
  {
   "cell_type": "code",
   "execution_count": 26,
   "metadata": {},
   "outputs": [],
   "source": [
    "# 1st conditional filter\n",
    "ords_prods_merge_updated_v2.loc[(ords_prods_merge_updated_v2['prices'] > 15), 'price_range'] = 'High-range product'"
   ]
  },
  {
   "cell_type": "code",
   "execution_count": 27,
   "metadata": {},
   "outputs": [],
   "source": [
    "# 2nd conditional filter\n",
    "ords_prods_merge_updated_v2.loc[(ords_prods_merge_updated_v2['prices'] <= 15) & (ords_prods_merge_updated_v2['prices'] > 5), 'price_range'] = 'Mid-range product'"
   ]
  },
  {
   "cell_type": "code",
   "execution_count": 28,
   "metadata": {},
   "outputs": [],
   "source": [
    "# 3rd conditional filter\n",
    "ords_prods_merge_updated_v2.loc[(ords_prods_merge_updated_v2['prices'] <= 5), 'price_range'] = 'Low-range product'"
   ]
  },
  {
   "cell_type": "code",
   "execution_count": 29,
   "metadata": {},
   "outputs": [
    {
     "data": {
      "text/plain": [
       "Mid-range product     21865987\n",
       "Low-range product     10126321\n",
       "High-range product      412551\n",
       "Name: price_range, dtype: int64"
      ]
     },
     "execution_count": 29,
     "metadata": {},
     "output_type": "execute_result"
    }
   ],
   "source": [
    "# 'price_range' column frequency counts\n",
    "ords_prods_merge_updated_v2['price_range'].value_counts()"
   ]
  },
  {
   "attachments": {},
   "cell_type": "markdown",
   "metadata": {},
   "source": [
    "### DERIVE VARIABLE `'busiest_day'` FROM `'orders_day_of_week'` USING A FOR-LOOP"
   ]
  },
  {
   "cell_type": "code",
   "execution_count": 30,
   "metadata": {},
   "outputs": [
    {
     "data": {
      "text/plain": [
       "0    6204182\n",
       "1    5660230\n",
       "6    4496490\n",
       "2    4213830\n",
       "5    4205791\n",
       "3    3840534\n",
       "4    3783802\n",
       "Name: orders_day_of_week, dtype: int64"
      ]
     },
     "execution_count": 30,
     "metadata": {},
     "output_type": "execute_result"
    }
   ],
   "source": [
    "# 'orders_day_of_week' column frequency counts\n",
    "ords_prods_merge_updated_v2['orders_day_of_week'].value_counts()"
   ]
  },
  {
   "cell_type": "code",
   "execution_count": 31,
   "metadata": {},
   "outputs": [],
   "source": [
    "# assign labels to the values in 'orders_day_of_week' column & store them in empty list 'result'\n",
    "result = []\n",
    "\n",
    "for value in ords_prods_merge_updated_v2['orders_day_of_week']:\n",
    "    if value == 0:\n",
    "        result.append('Busiest day')\n",
    "    elif value == 4:\n",
    "        result.append('Least busy')\n",
    "    else:\n",
    "        result.append('Regularly busy')"
   ]
  },
  {
   "cell_type": "code",
   "execution_count": 32,
   "metadata": {},
   "outputs": [],
   "source": [
    "# add values in 'result' list to dataframe as new column\n",
    "ords_prods_merge_updated_v2['busiest_day'] = result"
   ]
  },
  {
   "cell_type": "code",
   "execution_count": 33,
   "metadata": {},
   "outputs": [
    {
     "data": {
      "text/plain": [
       "Regularly busy    22416875\n",
       "Busiest day        6204182\n",
       "Least busy         3783802\n",
       "Name: busiest_day, dtype: int64"
      ]
     },
     "execution_count": 33,
     "metadata": {},
     "output_type": "execute_result"
    }
   ],
   "source": [
    "# 'busiest_day' column frequency counts\n",
    "ords_prods_merge_updated_v2['busiest_day'].value_counts()"
   ]
  },
  {
   "attachments": {},
   "cell_type": "markdown",
   "metadata": {},
   "source": [
    "### DERIVE VARIABLE `'busiest_days'` (UPDATED) FROM `'orders_day_of_week'` USING A FOR-LOOP"
   ]
  },
  {
   "cell_type": "code",
   "execution_count": 34,
   "metadata": {},
   "outputs": [
    {
     "data": {
      "text/plain": [
       "0    6204182\n",
       "1    5660230\n",
       "6    4496490\n",
       "2    4213830\n",
       "5    4205791\n",
       "3    3840534\n",
       "4    3783802\n",
       "Name: orders_day_of_week, dtype: int64"
      ]
     },
     "execution_count": 34,
     "metadata": {},
     "output_type": "execute_result"
    }
   ],
   "source": [
    "# 'orders_day_of_week' column frequency counts\n",
    "ords_prods_merge_updated_v2['orders_day_of_week'].value_counts()"
   ]
  },
  {
   "cell_type": "code",
   "execution_count": 35,
   "metadata": {},
   "outputs": [],
   "source": [
    "# assign labels to the values in 'orders_day_of_week' column & store them in empty list 'result_v2'\n",
    "result_v2 = []\n",
    "\n",
    "for i in ords_prods_merge_updated_v2['orders_day_of_week']:\n",
    "    if i == 0 or i == 1:\n",
    "        result_v2.append('Busiest')\n",
    "    elif i == 3 or i == 4:\n",
    "        result_v2.append('Least busy')\n",
    "    else:\n",
    "        result_v2.append('Regularly busy')"
   ]
  },
  {
   "cell_type": "code",
   "execution_count": 36,
   "metadata": {},
   "outputs": [],
   "source": [
    "# add values in 'result_v2' list to dataframe as new column\n",
    "ords_prods_merge_updated_v2['busiest_days'] = result_v2"
   ]
  },
  {
   "cell_type": "code",
   "execution_count": 37,
   "metadata": {},
   "outputs": [
    {
     "data": {
      "text/plain": [
       "Regularly busy    12916111\n",
       "Busiest           11864412\n",
       "Least busy         7624336\n",
       "Name: busiest_days, dtype: int64"
      ]
     },
     "execution_count": 37,
     "metadata": {},
     "output_type": "execute_result"
    }
   ],
   "source": [
    "# 'busiest_days' column frequency counts\n",
    "ords_prods_merge_updated_v2['busiest_days'].value_counts()"
   ]
  },
  {
   "attachments": {},
   "cell_type": "markdown",
   "metadata": {},
   "source": [
    "The frequency counts for the assigned labels in the `'busiest_days`' column correspond to those of the `'orders_day_of_week'` column. Approximately 40% of the orders were placed on regularly busy days of the week, 37% on the two busiest days, and 23% on the two least busy days."
   ]
  },
  {
   "attachments": {},
   "cell_type": "markdown",
   "metadata": {},
   "source": [
    "### DERIVE VARIABLE `'busiest_period_of_day'` FROM `'order_hour_of_day'` APPLYING CONDITIONAL FILTERS USING `loc()`"
   ]
  },
  {
   "cell_type": "code",
   "execution_count": 38,
   "metadata": {},
   "outputs": [
    {
     "data": {
      "text/plain": [
       "10    2761760\n",
       "11    2736140\n",
       "14    2689136\n",
       "15    2662144\n",
       "13    2660954\n",
       "12    2618532\n",
       "16    2535202\n",
       "9     2454203\n",
       "17    2087654\n",
       "8     1718118\n",
       "18    1636502\n",
       "19    1258305\n",
       "20     976156\n",
       "7      891054\n",
       "21     795637\n",
       "22     634225\n",
       "23     402316\n",
       "6      290493\n",
       "0      218769\n",
       "1      115700\n",
       "5       87961\n",
       "2       69375\n",
       "4       53242\n",
       "3       51281\n",
       "Name: order_hour_of_day, dtype: int64"
      ]
     },
     "execution_count": 38,
     "metadata": {},
     "output_type": "execute_result"
    }
   ],
   "source": [
    "# 'order_hour_of_day' column frequency counts\n",
    "ords_prods_merge_updated_v2['order_hour_of_day'].value_counts()"
   ]
  },
  {
   "attachments": {},
   "cell_type": "markdown",
   "metadata": {},
   "source": [
    "The classification of hours based on order volume will be as follows:\n",
    "\n",
    "- Hours with over 2 million orders will be labeled as **'Most orders'**\n",
    "- Hours with order counts ranging between 1 million and 2 million will be categorized as **'Average orders'**\n",
    "- Hours with fewer than 1 million orders will be classified as **'Fewest orders'**"
   ]
  },
  {
   "cell_type": "code",
   "execution_count": 39,
   "metadata": {},
   "outputs": [],
   "source": [
    "# assign labels to the values in 'order_hour_of_day' column & store them in empty list 'orders_hour'\n",
    "orders_hour = []\n",
    "\n",
    "for i in ords_prods_merge_updated_v2['order_hour_of_day']:\n",
    "    if i in [9, 10, 11, 12, 13, 14, 15, 16, 17]:\n",
    "        orders_hour.append('Most orders')\n",
    "    elif i in [8, 18, 19]:\n",
    "        orders_hour.append('Average orders')\n",
    "    else:\n",
    "        orders_hour.append('Fewest orders')"
   ]
  },
  {
   "cell_type": "code",
   "execution_count": 40,
   "metadata": {},
   "outputs": [],
   "source": [
    "# add values in 'orders_hour' list to dataframe as new column\n",
    "ords_prods_merge_updated_v2['busiest_period_of_day'] = orders_hour"
   ]
  },
  {
   "cell_type": "code",
   "execution_count": 41,
   "metadata": {},
   "outputs": [
    {
     "data": {
      "text/plain": [
       "Most orders       23205725\n",
       "Average orders     4612925\n",
       "Fewest orders      4586209\n",
       "Name: busiest_period_of_day, dtype: int64"
      ]
     },
     "execution_count": 41,
     "metadata": {},
     "output_type": "execute_result"
    }
   ],
   "source": [
    "# 'busiest_period_day' column frequency counts\n",
    "ords_prods_merge_updated_v2['busiest_period_of_day'].value_counts()"
   ]
  },
  {
   "attachments": {},
   "cell_type": "markdown",
   "metadata": {},
   "source": [
    "# EXPORTING DATA"
   ]
  },
  {
   "cell_type": "code",
   "execution_count": null,
   "metadata": {},
   "outputs": [],
   "source": [
    "# export 'df_ords_prods_merge' dataframe as pickle\n",
    "ords_prods_merge_updated_v2.to_pickle(os.path.join(path, '02 Data', 'Prepared Data', 'd_orders_products_derived.pkl'))"
   ]
  }
 ],
 "metadata": {
  "kernelspec": {
   "display_name": "base",
   "language": "python",
   "name": "python3"
  },
  "language_info": {
   "codemirror_mode": {
    "name": "ipython",
    "version": 3
   },
   "file_extension": ".py",
   "mimetype": "text/x-python",
   "name": "python",
   "nbconvert_exporter": "python",
   "pygments_lexer": "ipython3",
   "version": "3.10.9"
  },
  "orig_nbformat": 4
 },
 "nbformat": 4,
 "nbformat_minor": 2
}
