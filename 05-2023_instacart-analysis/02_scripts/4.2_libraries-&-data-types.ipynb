{
 "cells": [
  {
   "attachments": {},
   "cell_type": "markdown",
   "id": "107a1536",
   "metadata": {},
   "source": [
    "# CONTENTS\n",
    "\n",
    "- IMPORTING LIBRARIES\n",
    "- DATA TYPES"
   ]
  },
  {
   "attachments": {},
   "cell_type": "markdown",
   "id": "ea9161cc",
   "metadata": {},
   "source": [
    "# IMPORTING LIBRARIES"
   ]
  },
  {
   "cell_type": "code",
   "execution_count": 1,
   "id": "2fd87463",
   "metadata": {},
   "outputs": [],
   "source": [
    "# importing libraries\n",
    "import pandas as pd\n",
    "import numpy as np\n",
    "import os"
   ]
  },
  {
   "attachments": {},
   "cell_type": "markdown",
   "id": "da047cb4",
   "metadata": {},
   "source": [
    "# DATA TYPES"
   ]
  },
  {
   "cell_type": "code",
   "execution_count": 2,
   "id": "2b349f46",
   "metadata": {},
   "outputs": [
    {
     "name": "stdout",
     "output_type": "stream",
     "text": [
      "100\n"
     ]
    }
   ],
   "source": [
    "# step 7a\n",
    "a = 99\n",
    "b = 1\n",
    "calculation_1 = a + b\n",
    "print(calculation_1)"
   ]
  },
  {
   "cell_type": "code",
   "execution_count": 3,
   "id": "bd1cf87c",
   "metadata": {},
   "outputs": [
    {
     "name": "stdout",
     "output_type": "stream",
     "text": [
      "100\n"
     ]
    }
   ],
   "source": [
    "# step 7b\n",
    "c = 37\n",
    "d = 36\n",
    "calculation_2 = c + a - d\n",
    "print(calculation_2)"
   ]
  },
  {
   "cell_type": "code",
   "execution_count": 4,
   "id": "cfa477db",
   "metadata": {},
   "outputs": [
    {
     "name": "stdout",
     "output_type": "stream",
     "text": [
      "100\n"
     ]
    }
   ],
   "source": [
    "# step 7c\n",
    "e = 199\n",
    "calculation_3 = e - a\n",
    "print(calculation_3)\n"
   ]
  },
  {
   "cell_type": "code",
   "execution_count": 5,
   "id": "1db373d8",
   "metadata": {},
   "outputs": [
    {
     "name": "stdout",
     "output_type": "stream",
     "text": [
      "4.9880239520958085\n"
     ]
    }
   ],
   "source": [
    "# step 8\n",
    "f = 74.97\n",
    "g = 15.03\n",
    "calculation_4 = f / g\n",
    "print(calculation_4)"
   ]
  },
  {
   "cell_type": "code",
   "execution_count": 6,
   "id": "42d32635",
   "metadata": {},
   "outputs": [
    {
     "name": "stdout",
     "output_type": "stream",
     "text": [
      "Notebook\n"
     ]
    }
   ],
   "source": [
    "# step 9\n",
    "word_1 = 'Note'\n",
    "word_2 = 'book'\n",
    "compound_word= word_1 + word_2\n",
    "print(compound_word)"
   ]
  },
  {
   "cell_type": "code",
   "execution_count": 7,
   "id": "28bd43c1",
   "metadata": {},
   "outputs": [
    {
     "name": "stdout",
     "output_type": "stream",
     "text": [
      "Jupyter Notebook rocks!\n"
     ]
    }
   ],
   "source": [
    "# step 10a\n",
    "word_3 = 'Jupyter '\n",
    "word_4 = ' rocks!'\n",
    "sentence_1 = word_3 + compound_word + word_4\n",
    "print(sentence_1)"
   ]
  },
  {
   "cell_type": "code",
   "execution_count": 8,
   "id": "61cb1227",
   "metadata": {},
   "outputs": [
    {
     "name": "stdout",
     "output_type": "stream",
     "text": [
      "I'm using Jupyter Notebook in Visual Code Studio.\n"
     ]
    }
   ],
   "source": [
    "# step 10b\n",
    "sentence_2 = 'I\\'m using '\n",
    "sentence_3 = ' in Visual Code Studio.'\n",
    "sentence_4 = sentence_2 + word_3 + compound_word + sentence_3\n",
    "print(sentence_4)"
   ]
  },
  {
   "cell_type": "code",
   "execution_count": 9,
   "id": "0494478a",
   "metadata": {},
   "outputs": [
    {
     "name": "stdout",
     "output_type": "stream",
     "text": [
      " rocks! rocks! rocks! rocks! rocks! rocks! rocks! rocks! rocks! rocks! rocks! rocks! rocks! rocks! rocks! rocks! rocks! rocks! rocks! rocks! rocks! rocks! rocks! rocks! rocks! rocks! rocks! rocks! rocks! rocks! rocks! rocks! rocks! rocks! rocks! rocks! rocks! rocks! rocks! rocks! rocks! rocks! rocks! rocks! rocks! rocks! rocks! rocks! rocks! rocks! rocks! rocks! rocks! rocks! rocks! rocks! rocks! rocks! rocks! rocks! rocks! rocks! rocks! rocks! rocks! rocks! rocks! rocks! rocks! rocks! rocks! rocks! rocks! rocks! rocks! rocks! rocks! rocks! rocks! rocks! rocks! rocks! rocks! rocks! rocks! rocks! rocks! rocks! rocks! rocks! rocks! rocks! rocks! rocks! rocks! rocks! rocks! rocks! rocks! rocks!\n"
     ]
    }
   ],
   "source": [
    "# bonus task\n",
    "string_multiplication = word_4 * 100\n",
    "print(string_multiplication)"
   ]
  }
 ],
 "metadata": {
  "kernelspec": {
   "display_name": "Python 3 (ipykernel)",
   "language": "python",
   "name": "python3"
  },
  "language_info": {
   "codemirror_mode": {
    "name": "ipython",
    "version": 3
   },
   "file_extension": ".py",
   "mimetype": "text/x-python",
   "name": "python",
   "nbconvert_exporter": "python",
   "pygments_lexer": "ipython3",
   "version": "3.10.9"
  }
 },
 "nbformat": 4,
 "nbformat_minor": 5
}
